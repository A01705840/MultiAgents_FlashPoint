{
 "cells": [
  {
   "cell_type": "markdown",
   "metadata": {},
   "source": [
    "# Estructuración del tablero\n",
    "\n",
    "Para la creación del tablero se nos da una configuración inicial que consiste en una matriz de 6x8 (6 filas y och columnas). Para la creación del tablero tomamos la matriz inicial"
   ]
  },
  {
   "cell_type": "code",
   "execution_count": null,
   "metadata": {},
   "outputs": [],
   "source": [
    "# Aquí va el código que convierte la matriz en el tablero\n",
    "wallData = [['1001', '1000', '1100', '1001', '1100', '1001', '1000', '1100'],\n",
    "           ['0001', '0000', '0110', '0011', '0110', '0011', '0010', '0110'],\n",
    "           ['0001', '0100', '1001', '1000', '1000', '1100', '1001', '1100'],\n",
    "           ['0011', '0110', '0011', '0010', '0010', '0110', '0011', '0110'],\n",
    "           ['1001', '1000', '1000', '1000', '1100', '1001', '1100', '1101'],\n",
    "           ['0011', '0010', '0010', '0010', '0110', '0011', '0110', '0111']]\n"
   ]
  },
  {
   "cell_type": "markdown",
   "metadata": {},
   "source": [
    "Una vez que el tablero se ha creado, utilizaremos otras estructuras para así poder acceder rápidamente a cada celda. Es importante que las estructuras concuerden con la configuración inicial"
   ]
  },
  {
   "cell_type": "code",
   "execution_count": null,
   "metadata": {},
   "outputs": [],
   "source": [
    "# Definimos un diccionario que contiene la misma información que la matriz\n",
    "board = {\n",
    "    (1,1): {\"up\": 1, \"left\": 0, \"down\": 0, \"right\": 1},\n",
    "    (1,2): {\"up\": 1, \"left\": 0, \"down\": 0, \"right\": 0},\n",
    "    (1,3): {\"up\": 1, \"left\": 1, \"down\": 0, \"right\": 0},\n",
    "    (1,4): {\"up\": 1, \"left\": 0, \"down\": 0, \"right\": 1},\n",
    "    (1,5): {\"up\": 1, \"left\": 1, \"down\": 0, \"right\": 0},\n",
    "    (1,6): {\"up\": 1, \"left\": 0, \"down\": 0, \"right\": 1},\n",
    "    (1,7): {\"up\": 1, \"left\": 0, \"down\": 0, \"right\": 0},\n",
    "    (1,8): {\"up\": 1, \"left\": 1, \"down\": 0, \"right\": 0},\n",
    "}\n",
    "\n",
    "# Las puertas se representan con las celdas que conectan, son constantes\n",
    "doors = {\n",
    "    (1, 3): (1, 4),\n",
    "    (1, 4): (1, 3),\n",
    "    (2, 5): (2, 6),\n",
    "    (2, 6): (2, 5),\n",
    "    (2, 8): (3, 8),\n",
    "    (3, 8): (2, 8),\n",
    "    (3, 2): (3, 3),\n",
    "    (3, 3): (3, 2),\n",
    "    (4, 6): (4, 7),\n",
    "    (4, 7): (4, 6),\n",
    "    (4, 4): (5, 4),\n",
    "    (5, 4): (4, 4),\n",
    "    (6, 5): (6, 6),\n",
    "    (6, 6): (6, 5),\n",
    "    (6, 7): (6, 8),\n",
    "    (6, 8): (6, 7),\n",
    "}\n",
    "\n",
    "# Los puntos de entrada tambien son constantes, siempre abiertos y se representan con la celda a la que estan pegados\n",
    "entryPoints = {\n",
    "    \"1\": (1, 6),\n",
    "    \"2\": (3, 1),\n",
    "    \"3\": (4, 8),\n",
    "    \"4\": (6, 3),\n",
    "}\n",
    "\n",
    "# El fuego y los puntos de interés se representan en la misma matriz\n",
    "FirePOI = [\n",
    "    [None, None, None, None, None, None, None, None],\n",
    "    [None, \"F\", \"F\", \"V\", None, None, None, None],\n",
    "    [None, \"F\", \"F\", \"F\", \"F\", None, None, None],\n",
    "    [None, None, None, \"F\", None, None, None, None],\n",
    "    [\"FA\", None, None, None, None, \"F\", \"F\", \"V\"],\n",
    "    [None, None, None, None, None, \"F\", None, None],\n",
    "]"
   ]
  }
 ],
 "metadata": {
  "language_info": {
   "name": "python"
  }
 },
 "nbformat": 4,
 "nbformat_minor": 2
}
